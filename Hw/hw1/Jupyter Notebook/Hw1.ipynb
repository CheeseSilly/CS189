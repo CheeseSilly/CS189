{
 "cells": [
  {
   "cell_type": "markdown",
   "metadata": {},
   "source": [
    "## Import all packages"
   ]
  },
  {
   "cell_type": "code",
   "execution_count": null,
   "metadata": {},
   "outputs": [],
   "source": [
    "import sys\n",
    "if sys.version_info[0] < 3:\n",
    "\traise Exception(\"Python 3 not detected.\")\n",
    "import numpy as np\n",
    "import matplotlib.pyplot as plt\n",
    "from sklearn import svm\n",
    "from scipy import io\n"
   ]
  },
  {
   "cell_type": "markdown",
   "metadata": {},
   "source": [
    "## Q3 Data Partitioning , Evaluation Metrics and other necessary"
   ]
  },
  {
   "cell_type": "code",
   "execution_count": null,
   "metadata": {},
   "outputs": [],
   "source": [
    "# do the normalization\n",
    "def dataNormalization(training_data,test_data):\n",
    "    training_data.reshape(len(training_data),-1)\n",
    "    test_data.reshape(len(test_data),-1)\n",
    "    data=np.append(training_data,test_data,axis=0)\n",
    "    normalizedData = (data-np.min(data))/(np.max(data)-np.min(data))\n",
    "    index=len(training_data)\n",
    "    return normalizedData[0:index,:],normalizedData[index::,:]\n",
    "\n",
    "# do the data partitioning\n",
    "def dataPartitioning(data,labels,data_name):\n",
    "    labels=labels.reshape(len(labels),-1)\n",
    "    dataset=np.append(data,labels,axis=-1)\n",
    "    np.random.seed()\n",
    "    np.random.shuffle(dataset)\n",
    "    if data_name==\"mnist\":\n",
    "        index=10000\n",
    "    elif data_name==\"spam\":\n",
    "        index=int(0.2*len(dataset))\n",
    "    validation_data=dataset[0:index]\n",
    "    training_data=dataset[index:-1]\n",
    "    return validation_data,training_data\n",
    "\n",
    "# do the Evaluation metric\n",
    "def evaluationMetric(true_labels,predict_labels):\n",
    "    sum=0\n",
    "    score=0\n",
    "    for true_label in true_labels:\n",
    "        for predict_label in predict_labels:\n",
    "            if(true_label==predict_label):\n",
    "                sum+=1\n",
    "    score=(sum)/len(true_labels)\n",
    "    return score"
   ]
  }
 ],
 "metadata": {
  "kernelspec": {
   "display_name": "Python 3",
   "language": "python",
   "name": "python3"
  },
  "language_info": {
   "name": "python",
   "version": "3.12.4"
  }
 },
 "nbformat": 4,
 "nbformat_minor": 2
}
